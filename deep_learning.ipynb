{
 "cells": [
  {
   "cell_type": "markdown",
   "metadata": {},
   "source": [
    "# Deep Learning"
   ]
  },
  {
   "cell_type": "markdown",
   "metadata": {},
   "source": [
    "## 1. Artificial Neural Networks\n",
    "In this part we will see:\n",
    "<ol>\n",
    "    <li> how to build an ANN </li>\n",
    "    <li> how to predict the outcome of a single observation </li>\n",
    "    <li> how to evaluate the performance of an ANN with k-Fold Cross Validation </li>\n",
    "    <li> how to tackle overfitting with Dropout </li>\n",
    "    <li> how to do some Parameter Tuning on our ANN to improve its performance </li>\n",
    "</ol>"
   ]
  },
  {
   "cell_type": "markdown",
   "metadata": {},
   "source": [
    "\n",
    "The business problem that we are going to deal with is a classification problem. \n",
    "<br>Based on our information we are going to predict which customer is leaving or staying in the bank.</br>"
   ]
  },
  {
   "cell_type": "code",
   "execution_count": 4,
   "metadata": {},
   "outputs": [],
   "source": [
    "# Importing the libraries\n",
    "import numpy as np \n",
    "import matplotlib.pyplot as plt \n",
    "import pandas as pd \n",
    "import tensorflow as tf\n",
    "# Import Theano\n",
    "import keras "
   ]
  },
  {
   "cell_type": "code",
   "execution_count": 3,
   "metadata": {},
   "outputs": [
    {
     "data": {
      "text/html": [
       "<div>\n",
       "<style scoped>\n",
       "    .dataframe tbody tr th:only-of-type {\n",
       "        vertical-align: middle;\n",
       "    }\n",
       "\n",
       "    .dataframe tbody tr th {\n",
       "        vertical-align: top;\n",
       "    }\n",
       "\n",
       "    .dataframe thead th {\n",
       "        text-align: right;\n",
       "    }\n",
       "</style>\n",
       "<table border=\"1\" class=\"dataframe\">\n",
       "  <thead>\n",
       "    <tr style=\"text-align: right;\">\n",
       "      <th></th>\n",
       "      <th>RowNumber</th>\n",
       "      <th>CustomerId</th>\n",
       "      <th>Surname</th>\n",
       "      <th>CreditScore</th>\n",
       "      <th>Geography</th>\n",
       "      <th>Gender</th>\n",
       "      <th>Age</th>\n",
       "      <th>Tenure</th>\n",
       "      <th>Balance</th>\n",
       "      <th>NumOfProducts</th>\n",
       "      <th>HasCrCard</th>\n",
       "      <th>IsActiveMember</th>\n",
       "      <th>EstimatedSalary</th>\n",
       "      <th>Exited</th>\n",
       "    </tr>\n",
       "  </thead>\n",
       "  <tbody>\n",
       "    <tr>\n",
       "      <th>0</th>\n",
       "      <td>1</td>\n",
       "      <td>15634602</td>\n",
       "      <td>Hargrave</td>\n",
       "      <td>619</td>\n",
       "      <td>France</td>\n",
       "      <td>Female</td>\n",
       "      <td>42</td>\n",
       "      <td>2</td>\n",
       "      <td>0.00</td>\n",
       "      <td>1</td>\n",
       "      <td>1</td>\n",
       "      <td>1</td>\n",
       "      <td>101348.88</td>\n",
       "      <td>1</td>\n",
       "    </tr>\n",
       "    <tr>\n",
       "      <th>1</th>\n",
       "      <td>2</td>\n",
       "      <td>15647311</td>\n",
       "      <td>Hill</td>\n",
       "      <td>608</td>\n",
       "      <td>Spain</td>\n",
       "      <td>Female</td>\n",
       "      <td>41</td>\n",
       "      <td>1</td>\n",
       "      <td>83807.86</td>\n",
       "      <td>1</td>\n",
       "      <td>0</td>\n",
       "      <td>1</td>\n",
       "      <td>112542.58</td>\n",
       "      <td>0</td>\n",
       "    </tr>\n",
       "    <tr>\n",
       "      <th>2</th>\n",
       "      <td>3</td>\n",
       "      <td>15619304</td>\n",
       "      <td>Onio</td>\n",
       "      <td>502</td>\n",
       "      <td>France</td>\n",
       "      <td>Female</td>\n",
       "      <td>42</td>\n",
       "      <td>8</td>\n",
       "      <td>159660.80</td>\n",
       "      <td>3</td>\n",
       "      <td>1</td>\n",
       "      <td>0</td>\n",
       "      <td>113931.57</td>\n",
       "      <td>1</td>\n",
       "    </tr>\n",
       "    <tr>\n",
       "      <th>3</th>\n",
       "      <td>4</td>\n",
       "      <td>15701354</td>\n",
       "      <td>Boni</td>\n",
       "      <td>699</td>\n",
       "      <td>France</td>\n",
       "      <td>Female</td>\n",
       "      <td>39</td>\n",
       "      <td>1</td>\n",
       "      <td>0.00</td>\n",
       "      <td>2</td>\n",
       "      <td>0</td>\n",
       "      <td>0</td>\n",
       "      <td>93826.63</td>\n",
       "      <td>0</td>\n",
       "    </tr>\n",
       "    <tr>\n",
       "      <th>4</th>\n",
       "      <td>5</td>\n",
       "      <td>15737888</td>\n",
       "      <td>Mitchell</td>\n",
       "      <td>850</td>\n",
       "      <td>Spain</td>\n",
       "      <td>Female</td>\n",
       "      <td>43</td>\n",
       "      <td>2</td>\n",
       "      <td>125510.82</td>\n",
       "      <td>1</td>\n",
       "      <td>1</td>\n",
       "      <td>1</td>\n",
       "      <td>79084.10</td>\n",
       "      <td>0</td>\n",
       "    </tr>\n",
       "  </tbody>\n",
       "</table>\n",
       "</div>"
      ],
      "text/plain": [
       "   RowNumber  CustomerId   Surname  CreditScore Geography  Gender  Age  \\\n",
       "0          1    15634602  Hargrave          619    France  Female   42   \n",
       "1          2    15647311      Hill          608     Spain  Female   41   \n",
       "2          3    15619304      Onio          502    France  Female   42   \n",
       "3          4    15701354      Boni          699    France  Female   39   \n",
       "4          5    15737888  Mitchell          850     Spain  Female   43   \n",
       "\n",
       "   Tenure    Balance  NumOfProducts  HasCrCard  IsActiveMember  \\\n",
       "0       2       0.00              1          1               1   \n",
       "1       1   83807.86              1          0               1   \n",
       "2       8  159660.80              3          1               0   \n",
       "3       1       0.00              2          0               0   \n",
       "4       2  125510.82              1          1               1   \n",
       "\n",
       "   EstimatedSalary  Exited  \n",
       "0        101348.88       1  \n",
       "1        112542.58       0  \n",
       "2        113931.57       1  \n",
       "3         93826.63       0  \n",
       "4         79084.10       0  "
      ]
     },
     "execution_count": 3,
     "metadata": {},
     "output_type": "execute_result"
    }
   ],
   "source": [
    "# Importing the dataset\n",
    "dataset = pd.read_csv('Churn_Modelling.csv')\n",
    "dataset.head()"
   ]
  },
  {
   "cell_type": "code",
   "execution_count": 4,
   "metadata": {},
   "outputs": [
    {
     "data": {
      "text/plain": [
       "(10000, 14)"
      ]
     },
     "execution_count": 4,
     "metadata": {},
     "output_type": "execute_result"
    }
   ],
   "source": [
    "dataset.shape"
   ]
  },
  {
   "cell_type": "markdown",
   "metadata": {},
   "source": [
    "The \"RowNumber\", \"CustomerId\" and \"Surname\" are not determinant in our business problem. \n",
    "<br> So we will not consider them.</br>"
   ]
  },
  {
   "cell_type": "code",
   "execution_count": 5,
   "metadata": {},
   "outputs": [
    {
     "data": {
      "text/html": [
       "<div>\n",
       "<style scoped>\n",
       "    .dataframe tbody tr th:only-of-type {\n",
       "        vertical-align: middle;\n",
       "    }\n",
       "\n",
       "    .dataframe tbody tr th {\n",
       "        vertical-align: top;\n",
       "    }\n",
       "\n",
       "    .dataframe thead th {\n",
       "        text-align: right;\n",
       "    }\n",
       "</style>\n",
       "<table border=\"1\" class=\"dataframe\">\n",
       "  <thead>\n",
       "    <tr style=\"text-align: right;\">\n",
       "      <th></th>\n",
       "      <th>CreditScore</th>\n",
       "      <th>Geography</th>\n",
       "      <th>Gender</th>\n",
       "      <th>Age</th>\n",
       "      <th>Tenure</th>\n",
       "      <th>Balance</th>\n",
       "      <th>NumOfProducts</th>\n",
       "      <th>HasCrCard</th>\n",
       "      <th>IsActiveMember</th>\n",
       "      <th>EstimatedSalary</th>\n",
       "    </tr>\n",
       "  </thead>\n",
       "  <tbody>\n",
       "    <tr>\n",
       "      <th>0</th>\n",
       "      <td>619</td>\n",
       "      <td>France</td>\n",
       "      <td>Female</td>\n",
       "      <td>42</td>\n",
       "      <td>2</td>\n",
       "      <td>0.00</td>\n",
       "      <td>1</td>\n",
       "      <td>1</td>\n",
       "      <td>1</td>\n",
       "      <td>101348.88</td>\n",
       "    </tr>\n",
       "    <tr>\n",
       "      <th>1</th>\n",
       "      <td>608</td>\n",
       "      <td>Spain</td>\n",
       "      <td>Female</td>\n",
       "      <td>41</td>\n",
       "      <td>1</td>\n",
       "      <td>83807.86</td>\n",
       "      <td>1</td>\n",
       "      <td>0</td>\n",
       "      <td>1</td>\n",
       "      <td>112542.58</td>\n",
       "    </tr>\n",
       "  </tbody>\n",
       "</table>\n",
       "</div>"
      ],
      "text/plain": [
       "   CreditScore Geography  Gender  Age  Tenure   Balance  NumOfProducts  \\\n",
       "0          619    France  Female   42       2      0.00              1   \n",
       "1          608     Spain  Female   41       1  83807.86              1   \n",
       "\n",
       "   HasCrCard  IsActiveMember  EstimatedSalary  \n",
       "0          1               1        101348.88  \n",
       "1          0               1        112542.58  "
      ]
     },
     "execution_count": 5,
     "metadata": {},
     "output_type": "execute_result"
    }
   ],
   "source": [
    "dataset.iloc[:,3:13].head(2)"
   ]
  },
  {
   "cell_type": "code",
   "execution_count": 6,
   "metadata": {},
   "outputs": [
    {
     "data": {
      "text/plain": [
       "France     5014\n",
       "Germany    2509\n",
       "Spain      2477\n",
       "Name: Geography, dtype: int64"
      ]
     },
     "execution_count": 6,
     "metadata": {},
     "output_type": "execute_result"
    }
   ],
   "source": [
    "dataset['Geography'].value_counts()"
   ]
  },
  {
   "cell_type": "code",
   "execution_count": 7,
   "metadata": {},
   "outputs": [
    {
     "data": {
      "text/plain": [
       "Male      5457\n",
       "Female    4543\n",
       "Name: Gender, dtype: int64"
      ]
     },
     "execution_count": 7,
     "metadata": {},
     "output_type": "execute_result"
    }
   ],
   "source": [
    "dataset['Gender'].value_counts()"
   ]
  },
  {
   "cell_type": "code",
   "execution_count": 8,
   "metadata": {},
   "outputs": [
    {
     "name": "stdout",
     "output_type": "stream",
     "text": [
      "(10000, 10)\n",
      "<class 'numpy.ndarray'>\n"
     ]
    },
    {
     "data": {
      "text/plain": [
       "array([[619, 'France', 'Female', ..., 1, 1, 101348.88],\n",
       "       [608, 'Spain', 'Female', ..., 0, 1, 112542.58],\n",
       "       [502, 'France', 'Female', ..., 1, 0, 113931.57],\n",
       "       ..., \n",
       "       [709, 'France', 'Female', ..., 0, 1, 42085.58],\n",
       "       [772, 'Germany', 'Male', ..., 1, 0, 92888.52],\n",
       "       [792, 'France', 'Female', ..., 1, 0, 38190.78]], dtype=object)"
      ]
     },
     "execution_count": 8,
     "metadata": {},
     "output_type": "execute_result"
    }
   ],
   "source": [
    "# Include our dependent variables into our matrix X of features \n",
    "X = dataset.iloc[:, 3:13].values\n",
    "print (X.shape)\n",
    "print (type(X))\n",
    "X"
   ]
  },
  {
   "cell_type": "code",
   "execution_count": 9,
   "metadata": {},
   "outputs": [
    {
     "name": "stdout",
     "output_type": "stream",
     "text": [
      "(10000,)\n",
      "<class 'numpy.ndarray'>\n"
     ]
    },
    {
     "data": {
      "text/plain": [
       "array([1, 0, 1, ..., 1, 1, 0], dtype=int64)"
      ]
     },
     "execution_count": 9,
     "metadata": {},
     "output_type": "execute_result"
    }
   ],
   "source": [
    "# Vector y of dependent variables\n",
    "y = dataset.iloc[:, 13].values\n",
    "print(y.shape)\n",
    "print(type(y))\n",
    "y"
   ]
  },
  {
   "cell_type": "code",
   "execution_count": 10,
   "metadata": {},
   "outputs": [
    {
     "name": "stdout",
     "output_type": "stream",
     "text": [
      "[[619 0 'Female' ..., 1 1 101348.88]\n",
      " [608 2 'Female' ..., 0 1 112542.58]\n",
      " [502 0 'Female' ..., 1 0 113931.57]\n",
      " ..., \n",
      " [709 0 'Female' ..., 0 1 42085.58]\n",
      " [772 1 'Male' ..., 1 0 92888.52]\n",
      " [792 0 'Female' ..., 1 0 38190.78]]\n"
     ]
    }
   ],
   "source": [
    "# Encoding our first categorical independent variable \n",
    "from sklearn.preprocessing import LabelEncoder\n",
    "labelencoder_X_1 = LabelEncoder()\n",
    "X[:, 1] = labelencoder_X_1.fit_transform(X[:, 1])\n",
    "print(X)"
   ]
  },
  {
   "cell_type": "code",
   "execution_count": 11,
   "metadata": {},
   "outputs": [
    {
     "name": "stdout",
     "output_type": "stream",
     "text": [
      "[[619 0 0 ..., 1 1 101348.88]\n",
      " [608 2 0 ..., 0 1 112542.58]\n",
      " [502 0 0 ..., 1 0 113931.57]\n",
      " ..., \n",
      " [709 0 0 ..., 0 1 42085.58]\n",
      " [772 1 1 ..., 1 0 92888.52]\n",
      " [792 0 0 ..., 1 0 38190.78]]\n"
     ]
    }
   ],
   "source": [
    "# Encoding our second categorical independent variable\n",
    "labelencoder_X_2 = LabelEncoder()\n",
    "X[:, 2] = labelencoder_X_1.fit_transform(X[:, 2])\n",
    "print(X)"
   ]
  },
  {
   "cell_type": "markdown",
   "metadata": {},
   "source": [
    "We can see that from the first categorical variable (Geography), France is 0, Spain is 2 and Germany is 1.\n",
    "<br>From the second categorical variable (Gender), Female is 0 and Male is 1.</br>"
   ]
  },
  {
   "cell_type": "code",
   "execution_count": 12,
   "metadata": {},
   "outputs": [
    {
     "name": "stdout",
     "output_type": "stream",
     "text": [
      "[[      1.         0.         0.   ...,       1.         1.    101348.88]\n",
      " [      0.         0.         1.   ...,       0.         1.    112542.58]\n",
      " [      1.         0.         0.   ...,       1.         0.    113931.57]\n",
      " ..., \n",
      " [      1.         0.         0.   ...,       0.         1.     42085.58]\n",
      " [      0.         1.         0.   ...,       1.         0.     92888.52]\n",
      " [      1.         0.         0.   ...,       1.         0.     38190.78]]\n"
     ]
    }
   ],
   "source": [
    "# Create a dummy variable\n",
    "from sklearn.preprocessing import OneHotEncoder\n",
    "onehotencoder = OneHotEncoder(categorical_features=[1])\n",
    "X = onehotencoder.fit_transform(X).toarray()\n",
    "np.set_printoptions(precision=3, suppress=True)\n",
    "print(X)"
   ]
  },
  {
   "cell_type": "code",
   "execution_count": 13,
   "metadata": {},
   "outputs": [
    {
     "name": "stdout",
     "output_type": "stream",
     "text": [
      "(10000, 12)\n",
      "(10000, 11)\n"
     ]
    }
   ],
   "source": [
    "# Remove a dummy variable to avoid the dummy variable trap\n",
    "X[0]\n",
    "print(X.shape)\n",
    "X = X[:, 1:]\n",
    "np.set_printoptions(precision=3, suppress=True)\n",
    "X[0]\n",
    "print(X.shape)"
   ]
  },
  {
   "cell_type": "markdown",
   "metadata": {},
   "source": [
    "So we have now only two dummy variables for the countries."
   ]
  },
  {
   "cell_type": "code",
   "execution_count": 14,
   "metadata": {},
   "outputs": [],
   "source": [
    "# Splitting the dataset into the training set and the test set\n",
    "from sklearn.model_selection import train_test_split\n",
    "X_train, X_test, y_train, y_test = train_test_split(X, y, test_size=0.2, random_state=0)\n"
   ]
  },
  {
   "cell_type": "markdown",
   "metadata": {},
   "source": [
    "The next step is about Feature Scaling. Because lots of computation are done so we need to do feature scaling."
   ]
  },
  {
   "cell_type": "code",
   "execution_count": 15,
   "metadata": {},
   "outputs": [
    {
     "name": "stdout",
     "output_type": "stream",
     "text": [
      "[[-0.57   1.743  0.17  ...,  0.643 -1.032  1.106]\n",
      " [ 1.755 -0.574 -2.305 ...,  0.643  0.969 -0.749]\n",
      " [-0.57  -0.574 -1.191 ...,  0.643 -1.032  1.485]\n",
      " ..., \n",
      " [-0.57  -0.574  0.902 ...,  0.643 -1.032  1.412]\n",
      " [-0.57   1.743 -0.624 ...,  0.643  0.969  0.844]\n",
      " [ 1.755 -0.574 -0.284 ...,  0.643 -1.032  0.325]]\n",
      "(8000, 11)\n"
     ]
    }
   ],
   "source": [
    "# Feature Scaling \n",
    "from sklearn.preprocessing import StandardScaler\n",
    "sc = StandardScaler()\n",
    "X_train = sc.fit_transform(X_train)\n",
    "X_test = sc.transform(X_test)\n",
    "np.set_printoptions(precision=3)\n",
    "print(X_train)\n",
    "print(X_train.shape)"
   ]
  },
  {
   "cell_type": "code",
   "execution_count": 16,
   "metadata": {},
   "outputs": [
    {
     "name": "stdout",
     "output_type": "stream",
     "text": [
      "[[ 1.755 -0.574 -0.552 ...,  0.643  0.969  1.611]\n",
      " [-0.57  -0.574 -1.315 ...,  0.643 -1.032  0.496]\n",
      " [-0.57   1.743  0.572 ...,  0.643  0.969 -0.425]\n",
      " ..., \n",
      " [-0.57   1.743 -0.748 ...,  0.643 -1.032  0.719]\n",
      " [ 1.755 -0.574 -0.006 ...,  0.643  0.969 -1.545]\n",
      " [ 1.755 -0.574 -0.799 ...,  0.643 -1.032  1.613]]\n",
      "(2000, 11)\n"
     ]
    }
   ],
   "source": [
    "np.set_printoptions(precision=3)\n",
    "print(X_test)\n",
    "print(X_test.shape)"
   ]
  },
  {
   "cell_type": "markdown",
   "metadata": {},
   "source": [
    "Now we can make the ANN and importing the Keras library and packages"
   ]
  },
  {
   "cell_type": "code",
   "execution_count": 17,
   "metadata": {},
   "outputs": [],
   "source": [
    "# Importing the libraries\n",
    "import keras\n",
    "from keras.models import Sequential\n",
    "from keras.layers import Dense"
   ]
  },
  {
   "cell_type": "code",
   "execution_count": 18,
   "metadata": {},
   "outputs": [],
   "source": [
    "# Initialising the ANN\n",
    "classifier = Sequential()"
   ]
  },
  {
   "cell_type": "markdown",
   "metadata": {},
   "source": [
    "Using the Stochastic Gradient Descent method we will apply the rectifier function for the hidden layers and the sigmoid function for the output layer."
   ]
  },
  {
   "cell_type": "code",
   "execution_count": 19,
   "metadata": {},
   "outputs": [],
   "source": [
    "# Adding the input layer and the first hidden layer\n",
    "classifier.add(Dense(activation=\"relu\", units=6, kernel_initializer=\"uniform\", input_dim=11))"
   ]
  },
  {
   "cell_type": "code",
   "execution_count": 20,
   "metadata": {},
   "outputs": [],
   "source": [
    "# Adding our second hidden layer\n",
    "classifier.add(Dense(activation=\"relu\", units=6, kernel_initializer=\"uniform\"))"
   ]
  },
  {
   "cell_type": "code",
   "execution_count": 21,
   "metadata": {},
   "outputs": [],
   "source": [
    "# Adding the final layer (the output layer)\n",
    "classifier.add(Dense(activation=\"sigmoid\", units=1, kernel_initializer=\"uniform\"))"
   ]
  },
  {
   "cell_type": "code",
   "execution_count": 22,
   "metadata": {},
   "outputs": [],
   "source": [
    "# Compiling the ANN\n",
    "classifier.compile(optimizer=\"adam\", loss=\"binary_crossentropy\", metrics=[\"accuracy\"])"
   ]
  },
  {
   "cell_type": "code",
   "execution_count": 24,
   "metadata": {},
   "outputs": [
    {
     "name": "stdout",
     "output_type": "stream",
     "text": [
      "Epoch 1/100\n",
      "8000/8000 [==============================] - 2s 256us/step - loss: 0.4770 - acc: 0.7959\n",
      "Epoch 2/100\n",
      "8000/8000 [==============================] - 1s 176us/step - loss: 0.4282 - acc: 0.7960\n",
      "Epoch 3/100\n",
      "8000/8000 [==============================] - 1s 166us/step - loss: 0.4222 - acc: 0.7994\n",
      "Epoch 4/100\n",
      "8000/8000 [==============================] - 1s 167us/step - loss: 0.4184 - acc: 0.8241\n",
      "Epoch 5/100\n",
      "8000/8000 [==============================] - 1s 187us/step - loss: 0.4156 - acc: 0.8292\n",
      "Epoch 6/100\n",
      "8000/8000 [==============================] - 1s 169us/step - loss: 0.4140 - acc: 0.8296\n",
      "Epoch 7/100\n",
      "8000/8000 [==============================] - 1s 168us/step - loss: 0.4126 - acc: 0.8309\n",
      "Epoch 8/100\n",
      "8000/8000 [==============================] - 2s 213us/step - loss: 0.4113 - acc: 0.8324\n",
      "Epoch 9/100\n",
      "8000/8000 [==============================] - 1s 167us/step - loss: 0.4105 - acc: 0.8346\n",
      "Epoch 10/100\n",
      "8000/8000 [==============================] - 1s 162us/step - loss: 0.4095 - acc: 0.8334\n",
      "Epoch 11/100\n",
      "8000/8000 [==============================] - 2s 196us/step - loss: 0.4090 - acc: 0.8341\n",
      "Epoch 12/100\n",
      "8000/8000 [==============================] - 1s 185us/step - loss: 0.4083 - acc: 0.8341\n",
      "Epoch 13/100\n",
      "8000/8000 [==============================] - 2s 199us/step - loss: 0.4077 - acc: 0.8365\n",
      "Epoch 14/100\n",
      "8000/8000 [==============================] - 2s 205us/step - loss: 0.4067 - acc: 0.8350\n",
      "Epoch 15/100\n",
      "8000/8000 [==============================] - 1s 177us/step - loss: 0.4054 - acc: 0.8352\n",
      "Epoch 16/100\n",
      "8000/8000 [==============================] - 1s 182us/step - loss: 0.4042 - acc: 0.8335\n",
      "Epoch 17/100\n",
      "8000/8000 [==============================] - 1s 168us/step - loss: 0.4027 - acc: 0.8352\n",
      "Epoch 18/100\n",
      "8000/8000 [==============================] - 2s 189us/step - loss: 0.4018 - acc: 0.8351\n",
      "Epoch 19/100\n",
      "8000/8000 [==============================] - 2s 188us/step - loss: 0.4014 - acc: 0.8332\n",
      "Epoch 20/100\n",
      "8000/8000 [==============================] - 2s 189us/step - loss: 0.4002 - acc: 0.8364\n",
      "Epoch 21/100\n",
      "8000/8000 [==============================] - 1s 177us/step - loss: 0.3999 - acc: 0.8342\n",
      "Epoch 22/100\n",
      "8000/8000 [==============================] - 2s 198us/step - loss: 0.3997 - acc: 0.8339\n",
      "Epoch 23/100\n",
      "8000/8000 [==============================] - 1s 176us/step - loss: 0.3986 - acc: 0.8346\n",
      "Epoch 24/100\n",
      "8000/8000 [==============================] - 1s 174us/step - loss: 0.3983 - acc: 0.8339\n",
      "Epoch 25/100\n",
      "8000/8000 [==============================] - 1s 179us/step - loss: 0.3981 - acc: 0.8332\n",
      "Epoch 26/100\n",
      "8000/8000 [==============================] - 2s 190us/step - loss: 0.3973 - acc: 0.8337\n",
      "Epoch 27/100\n",
      "8000/8000 [==============================] - 1s 175us/step - loss: 0.3969 - acc: 0.8341\n",
      "Epoch 28/100\n",
      "8000/8000 [==============================] - 1s 173us/step - loss: 0.3970 - acc: 0.8334\n",
      "Epoch 29/100\n",
      "8000/8000 [==============================] - 1s 176us/step - loss: 0.3968 - acc: 0.8370\n",
      "Epoch 30/100\n",
      "8000/8000 [==============================] - 1s 177us/step - loss: 0.3966 - acc: 0.8336\n",
      "Epoch 31/100\n",
      "8000/8000 [==============================] - 1s 176us/step - loss: 0.3966 - acc: 0.8341\n",
      "Epoch 32/100\n",
      "8000/8000 [==============================] - 2s 193us/step - loss: 0.3962 - acc: 0.8354\n",
      "Epoch 33/100\n",
      "8000/8000 [==============================] - 2s 212us/step - loss: 0.3955 - acc: 0.8347\n",
      "Epoch 34/100\n",
      "8000/8000 [==============================] - 1s 177us/step - loss: 0.3962 - acc: 0.8329\n",
      "Epoch 35/100\n",
      "8000/8000 [==============================] - 1s 168us/step - loss: 0.3959 - acc: 0.8350\n",
      "Epoch 36/100\n",
      "8000/8000 [==============================] - 1s 169us/step - loss: 0.3959 - acc: 0.8354\n",
      "Epoch 37/100\n",
      "8000/8000 [==============================] - 1s 171us/step - loss: 0.3959 - acc: 0.8347\n",
      "Epoch 38/100\n",
      "8000/8000 [==============================] - 1s 176us/step - loss: 0.3955 - acc: 0.8339\n",
      "Epoch 39/100\n",
      "8000/8000 [==============================] - 1s 175us/step - loss: 0.3954 - acc: 0.8351\n",
      "Epoch 40/100\n",
      "8000/8000 [==============================] - 1s 174us/step - loss: 0.3952 - acc: 0.8349\n",
      "Epoch 41/100\n",
      "8000/8000 [==============================] - 1s 175us/step - loss: 0.3955 - acc: 0.8347\n",
      "Epoch 42/100\n",
      "8000/8000 [==============================] - 1s 175us/step - loss: 0.3953 - acc: 0.8354\n",
      "Epoch 43/100\n",
      "8000/8000 [==============================] - 1s 177us/step - loss: 0.3949 - acc: 0.8349\n",
      "Epoch 44/100\n",
      "8000/8000 [==============================] - 1s 177us/step - loss: 0.3950 - acc: 0.8369\n",
      "Epoch 45/100\n",
      "8000/8000 [==============================] - 1s 179us/step - loss: 0.3951 - acc: 0.8362\n",
      "Epoch 46/100\n",
      "8000/8000 [==============================] - 1s 182us/step - loss: 0.3958 - acc: 0.8349\n",
      "Epoch 47/100\n",
      "8000/8000 [==============================] - 1s 184us/step - loss: 0.3946 - acc: 0.8357\n",
      "Epoch 48/100\n",
      "8000/8000 [==============================] - 1s 185us/step - loss: 0.3946 - acc: 0.8370\n",
      "Epoch 49/100\n",
      "8000/8000 [==============================] - 1s 186us/step - loss: 0.3949 - acc: 0.8361\n",
      "Epoch 50/100\n",
      "8000/8000 [==============================] - 1s 183us/step - loss: 0.3944 - acc: 0.8352\n",
      "Epoch 51/100\n",
      "8000/8000 [==============================] - 1s 186us/step - loss: 0.3949 - acc: 0.8355\n",
      "Epoch 52/100\n",
      "8000/8000 [==============================] - 2s 196us/step - loss: 0.3946 - acc: 0.8336\n",
      "Epoch 53/100\n",
      "8000/8000 [==============================] - 1s 182us/step - loss: 0.3943 - acc: 0.8355\n",
      "Epoch 54/100\n",
      "8000/8000 [==============================] - 1s 175us/step - loss: 0.3943 - acc: 0.8357\n",
      "Epoch 55/100\n",
      "8000/8000 [==============================] - 2s 192us/step - loss: 0.3940 - acc: 0.8347\n",
      "Epoch 56/100\n",
      "8000/8000 [==============================] - 1s 182us/step - loss: 0.3944 - acc: 0.8375\n",
      "Epoch 57/100\n",
      "8000/8000 [==============================] - 1s 185us/step - loss: 0.3943 - acc: 0.8336\n",
      "Epoch 58/100\n",
      "8000/8000 [==============================] - 2s 196us/step - loss: 0.3946 - acc: 0.8366 0s - loss: 0.3949 - a\n",
      "Epoch 59/100\n",
      "8000/8000 [==============================] - 2s 207us/step - loss: 0.3943 - acc: 0.8351\n",
      "Epoch 60/100\n",
      "8000/8000 [==============================] - 2s 220us/step - loss: 0.3937 - acc: 0.8355\n",
      "Epoch 61/100\n",
      "8000/8000 [==============================] - 2s 192us/step - loss: 0.3939 - acc: 0.8361\n",
      "Epoch 62/100\n",
      "8000/8000 [==============================] - 2s 189us/step - loss: 0.3937 - acc: 0.8341\n",
      "Epoch 63/100\n",
      "8000/8000 [==============================] - 1s 187us/step - loss: 0.3937 - acc: 0.8339\n",
      "Epoch 64/100\n",
      "8000/8000 [==============================] - 2s 189us/step - loss: 0.3945 - acc: 0.8364\n",
      "Epoch 65/100\n",
      "8000/8000 [==============================] - 2s 191us/step - loss: 0.3940 - acc: 0.8347\n",
      "Epoch 66/100\n",
      "8000/8000 [==============================] - 2s 189us/step - loss: 0.3941 - acc: 0.8355\n",
      "Epoch 67/100\n",
      "8000/8000 [==============================] - 2s 190us/step - loss: 0.3938 - acc: 0.8355\n",
      "Epoch 68/100\n",
      "8000/8000 [==============================] - 2s 190us/step - loss: 0.3929 - acc: 0.8340\n",
      "Epoch 69/100\n",
      "8000/8000 [==============================] - 2s 194us/step - loss: 0.3939 - acc: 0.8346\n",
      "Epoch 70/100\n",
      "8000/8000 [==============================] - 2s 188us/step - loss: 0.3938 - acc: 0.8342\n",
      "Epoch 71/100\n",
      "8000/8000 [==============================] - 2s 195us/step - loss: 0.3936 - acc: 0.8349\n",
      "Epoch 72/100\n",
      "8000/8000 [==============================] - 2s 192us/step - loss: 0.3933 - acc: 0.8365\n",
      "Epoch 73/100\n",
      "8000/8000 [==============================] - 2s 193us/step - loss: 0.3938 - acc: 0.8359 0s - loss: 0.3954 - ac\n",
      "Epoch 74/100\n",
      "8000/8000 [==============================] - 2s 190us/step - loss: 0.3933 - acc: 0.8341\n",
      "Epoch 75/100\n",
      "8000/8000 [==============================] - 2s 194us/step - loss: 0.3936 - acc: 0.8352\n",
      "Epoch 76/100\n",
      "8000/8000 [==============================] - 2s 192us/step - loss: 0.3926 - acc: 0.8350\n",
      "Epoch 77/100\n",
      "8000/8000 [==============================] - 2s 192us/step - loss: 0.3933 - acc: 0.8331\n",
      "Epoch 78/100\n",
      "8000/8000 [==============================] - 2s 214us/step - loss: 0.3932 - acc: 0.8366\n",
      "Epoch 79/100\n",
      "8000/8000 [==============================] - 2s 192us/step - loss: 0.3936 - acc: 0.8357\n",
      "Epoch 80/100\n",
      "8000/8000 [==============================] - 2s 198us/step - loss: 0.3931 - acc: 0.8365\n",
      "Epoch 81/100\n",
      "8000/8000 [==============================] - 1s 161us/step - loss: 0.3933 - acc: 0.8346\n",
      "Epoch 82/100\n",
      "8000/8000 [==============================] - 1s 157us/step - loss: 0.3932 - acc: 0.8365\n",
      "Epoch 83/100\n",
      "8000/8000 [==============================] - 1s 157us/step - loss: 0.3930 - acc: 0.8366\n",
      "Epoch 84/100\n",
      "8000/8000 [==============================] - 1s 156us/step - loss: 0.3933 - acc: 0.8357\n",
      "Epoch 85/100\n",
      "8000/8000 [==============================] - 1s 158us/step - loss: 0.3934 - acc: 0.8355\n",
      "Epoch 86/100\n",
      "8000/8000 [==============================] - 1s 156us/step - loss: 0.3933 - acc: 0.8366\n",
      "Epoch 87/100\n",
      "8000/8000 [==============================] - 1s 162us/step - loss: 0.3926 - acc: 0.8336\n",
      "Epoch 88/100\n",
      "8000/8000 [==============================] - 1s 160us/step - loss: 0.3926 - acc: 0.8364\n",
      "Epoch 89/100\n",
      "8000/8000 [==============================] - 1s 161us/step - loss: 0.3927 - acc: 0.8364\n",
      "Epoch 90/100\n",
      "8000/8000 [==============================] - 1s 161us/step - loss: 0.3927 - acc: 0.8347\n",
      "Epoch 91/100\n",
      "8000/8000 [==============================] - 1s 161us/step - loss: 0.3924 - acc: 0.8349\n",
      "Epoch 92/100\n",
      "8000/8000 [==============================] - 1s 159us/step - loss: 0.3928 - acc: 0.8347\n",
      "Epoch 93/100\n",
      "8000/8000 [==============================] - 1s 160us/step - loss: 0.3924 - acc: 0.8355\n",
      "Epoch 94/100\n",
      "8000/8000 [==============================] - 1s 159us/step - loss: 0.3931 - acc: 0.8356\n",
      "Epoch 95/100\n",
      "8000/8000 [==============================] - 1s 161us/step - loss: 0.3927 - acc: 0.8357\n",
      "Epoch 96/100\n",
      "8000/8000 [==============================] - 1s 171us/step - loss: 0.3929 - acc: 0.8344\n",
      "Epoch 97/100\n",
      "8000/8000 [==============================] - 1s 161us/step - loss: 0.3929 - acc: 0.8356\n",
      "Epoch 98/100\n",
      "8000/8000 [==============================] - 1s 161us/step - loss: 0.3929 - acc: 0.8351\n",
      "Epoch 99/100\n",
      "8000/8000 [==============================] - 1s 159us/step - loss: 0.3929 - acc: 0.8339\n",
      "Epoch 100/100\n",
      "8000/8000 [==============================] - 1s 162us/step - loss: 0.3923 - acc: 0.8372\n"
     ]
    },
    {
     "data": {
      "text/plain": [
       "<keras.callbacks.History at 0xaeb4470>"
      ]
     },
     "execution_count": 24,
     "metadata": {},
     "output_type": "execute_result"
    }
   ],
   "source": [
    "# Fitting our ANN to the training set\n",
    "classifier.fit(X_train, y_train, batch_size=10, epochs=100)"
   ]
  },
  {
   "cell_type": "code",
   "execution_count": 25,
   "metadata": {},
   "outputs": [
    {
     "data": {
      "text/plain": [
       "array([[ 0.201],\n",
       "       [ 0.298],\n",
       "       [ 0.16 ],\n",
       "       ..., \n",
       "       [ 0.202],\n",
       "       [ 0.111],\n",
       "       [ 0.154]], dtype=float32)"
      ]
     },
     "execution_count": 25,
     "metadata": {},
     "output_type": "execute_result"
    }
   ],
   "source": [
    "# Predicting the test results \n",
    "y_pred = classifier.predict(X_test)\n",
    "np.set_printoptions(precision=3)\n",
    "y_pred"
   ]
  },
  {
   "cell_type": "markdown",
   "metadata": {},
   "source": [
    "These are the probabilities that the customer, in respect with the index, leave the bank.\n",
    "<br> For example the customer with index 0 has 20% to leave the bank.</br>"
   ]
  },
  {
   "cell_type": "code",
   "execution_count": 26,
   "metadata": {},
   "outputs": [
    {
     "data": {
      "text/plain": [
       "array([[False],\n",
       "       [False],\n",
       "       [False],\n",
       "       ..., \n",
       "       [False],\n",
       "       [False],\n",
       "       [False]], dtype=bool)"
      ]
     },
     "execution_count": 26,
     "metadata": {},
     "output_type": "execute_result"
    }
   ],
   "source": [
    "# Now using a threshold, not probabilities\n",
    "y_pred = (y_pred > 0.5)\n",
    "y_pred"
   ]
  },
  {
   "cell_type": "markdown",
   "metadata": {},
   "source": [
    "This means if y_pred > 0.5 it returns \"True\" if not it returns \"False\"."
   ]
  },
  {
   "cell_type": "markdown",
   "metadata": {},
   "source": [
    "Making a prediction for single new observation\n",
    "<br>Predict if the customer with the following informations will leave the bank or not:</br>\n",
    "<ul>\n",
    "    <li>Geography: France</li>\n",
    "    <li>Credit Score: 600</li>\n",
    "    <li>Gender: Male</li>\n",
    "    <li>Age: 40</li>\n",
    "    <li>Tenure: 3</li>\n",
    "    <li>Balance: 60000</li>\n",
    "    <li>Number of Products: 2</li>\n",
    "    <li>Has a credit Card: Yes</li>\n",
    "    <li>Is a Active Member: Yes</li>\n",
    "    <li>Estimated Salary: 50000</li>\n",
    "<ul>"
   ]
  },
  {
   "cell_type": "code",
   "execution_count": 27,
   "metadata": {},
   "outputs": [
    {
     "data": {
      "text/plain": [
       "array([[False]], dtype=bool)"
      ]
     },
     "execution_count": 27,
     "metadata": {},
     "output_type": "execute_result"
    }
   ],
   "source": [
    "new_prediction = classifier.predict(sc.transform(np.array([[0.0, 0, 600, 1, 40, 3, 60000, 2, 1, 1, 50000]])))\n",
    "new_prediction = (new_prediction > 0.5)\n",
    "new_prediction"
   ]
  },
  {
   "cell_type": "markdown",
   "metadata": {},
   "source": [
    "In conclusion this customer will not leave the bank."
   ]
  },
  {
   "cell_type": "code",
   "execution_count": 28,
   "metadata": {},
   "outputs": [
    {
     "data": {
      "text/plain": [
       "array([[1551,   44],\n",
       "       [ 271,  134]], dtype=int64)"
      ]
     },
     "execution_count": 28,
     "metadata": {},
     "output_type": "execute_result"
    }
   ],
   "source": [
    "# Making the confusion matrix\n",
    "from sklearn.metrics import confusion_matrix\n",
    "cm = confusion_matrix(y_test, y_pred)\n",
    "cm"
   ]
  },
  {
   "cell_type": "markdown",
   "metadata": {},
   "source": [
    "We have (1551 + 134) correct predictions and (271 + 44) incorrect predictions.\n",
    "<br> (1551 + 134) / 2000 ( total number of observations in our test set) gives us 84,25% of correct predictions.</br>\n",
    "<br> That is close to the % obtained when fitting our ANN to the training set.</br>"
   ]
  },
  {
   "cell_type": "markdown",
   "metadata": {},
   "source": [
    "By Training our model in the train set and the test several times we usually get different accuracies.\n",
    "<br> This is because of the Bias-Variance Tradeoff.</br>\n",
    "<br> We can fix this by using the KFold-Cross-Validation method.</br>"
   ]
  },
  {
   "cell_type": "markdown",
   "metadata": {},
   "source": [
    "<br> For parallel computing, \" n_jobs = -1 \" for multi CPU. </br>\n",
    "<br> n_jobs=1 => 1 CPU core.</br>\n",
    "<br> Currently, multi CPU core processing is not supported with my configuration.</br>"
   ]
  },
  {
   "cell_type": "code",
   "execution_count": null,
   "metadata": {},
   "outputs": [],
   "source": [
    "# Evaluating the ANN\n",
    "from keras.wrappers.scikit_learn import KerasClassifier\n",
    "from sklearn.model_selection import cross_val_score\n",
    "\n",
    "def build_classifier():\n",
    "    classifier = Sequential()\n",
    "    classifier.add(Dense(units = 6, kernel_initializer = 'uniform', activation = 'relu', input_dim = 11))\n",
    "    classifier.add(Dense(units = 6, kernel_initializer = 'uniform', activation = 'relu'))\n",
    "    classifier.add(Dense(units = 1, kernel_initializer = 'uniform', activation = 'sigmoid'))\n",
    "    classifier.compile(optimizer = 'adam', loss = 'binary_crossentropy', metrics = ['accuracy'])\n",
    "    return classifier\n",
    "# The above classifier created is only a local classifier, so we need to create a global classifier\n",
    "\n",
    "classifier = KerasClassifier(build_fn=build_classifier, batch_size=10, epochs=100)\n",
    "accuracies = cross_val_score(estimator=classifier, X=X_train, y=y_train, cv=10, n_jobs=1)"
   ]
  },
  {
   "cell_type": "code",
   "execution_count": 28,
   "metadata": {},
   "outputs": [
    {
     "data": {
      "text/plain": [
       "array([ 0.841,  0.841,  0.831,  0.829,  0.857,  0.862,  0.835,  0.861,\n",
       "        0.841,  0.842])"
      ]
     },
     "execution_count": 28,
     "metadata": {},
     "output_type": "execute_result"
    }
   ],
   "source": [
    "accuracies"
   ]
  },
  {
   "cell_type": "code",
   "execution_count": 29,
   "metadata": {},
   "outputs": [
    {
     "name": "stdout",
     "output_type": "stream",
     "text": [
      "0.844249994978\n",
      "0.0114999999932\n"
     ]
    }
   ],
   "source": [
    "# Mean of \"accuracies\"\n",
    "print(accuracies.mean())\n",
    "# Variance of \"accuracies\"\n",
    "print(accuracies.std())"
   ]
  },
  {
   "cell_type": "markdown",
   "metadata": {},
   "source": [
    "Low variance and 84% accuracy."
   ]
  },
  {
   "cell_type": "code",
   "execution_count": null,
   "metadata": {},
   "outputs": [],
   "source": [
    "# Improving our ANN\n",
    "# Parameters tuning with GridSearchCV\n",
    "from keras.wrappers.scikit_learn import KerasClassifier\n",
    "from sklearn.model_selection import GridSearchCV\n",
    "\n",
    "def build_classifier(optimizer):\n",
    "    classifier = Sequential()\n",
    "    classifier.add(Dense(units = 6, kernel_initializer = 'uniform', activation = 'relu', input_dim = 11))\n",
    "    classifier.add(Dense(units = 6, kernel_initializer = 'uniform', activation = 'relu'))\n",
    "    classifier.add(Dense(units = 1, kernel_initializer = 'uniform', activation = 'sigmoid'))\n",
    "    classifier.compile(optimizer = optimizer, loss = 'binary_crossentropy', metrics = ['accuracy'])\n",
    "    return classifier\n",
    "\n",
    "classifier = KerasClassifier(build_fn=build_classifier)\n",
    "parameters = {'batch_size':[25,32], 'epochs':[100,500], 'optimizer':['adam','rmsprop']}\n",
    "grid_search = GridSearchCV(estimator=classifier, param_grid=parameters, scoring='accuracy', cv=10)\n",
    "grid_search = grid_search.fit(X_train, y_train)\n",
    "best_parameters = grid_search.best_params_\n",
    "best_accuracy = grid_search.best_score_"
   ]
  },
  {
   "cell_type": "markdown",
   "metadata": {},
   "source": [
    "## 2. Convolutional Neural Network\n",
    "In this section we will see:\n",
    "<ol>\n",
    "    <li> Convolution Operation </li>\n",
    "    <li> ReLU Layer </li>\n",
    "    <li> Pooling </li> \n",
    "    <li> Flattening </li>\n",
    "    <li> Full Connection </li>\n",
    "</ol>"
   ]
  },
  {
   "cell_type": "markdown",
   "metadata": {},
   "source": [
    "We are going to use the Convolutional Neural (CNN) Network method to solve an image classification problem where our goal will be to classify an image and to predict which class it belongs.\n",
    "<br> Our dataset consists of 10,000 images of cats and dogs. </br>\n",
    "<br> The splitting was about 80%-20%. </br>"
   ]
  },
  {
   "cell_type": "code",
   "execution_count": 31,
   "metadata": {},
   "outputs": [],
   "source": [
    "# Importing the Keras libraries and packages\n",
    "from keras.models import Sequential\n",
    "from keras.layers import Convolution2D\n",
    "from keras.layers import MaxPooling2D\n",
    "from keras.layers import Dense\n",
    "from keras.layers import Flatten"
   ]
  },
  {
   "cell_type": "code",
   "execution_count": 32,
   "metadata": {},
   "outputs": [],
   "source": [
    "# Initializing the CNN\n",
    "classifier = Sequential()"
   ]
  },
  {
   "cell_type": "code",
   "execution_count": 33,
   "metadata": {},
   "outputs": [],
   "source": [
    "# Adding the first hidden layer\n",
    "classifier.add(Convolution2D(32, (3, 3), input_shape=(64, 64, 3), activation='relu'))"
   ]
  },
  {
   "cell_type": "code",
   "execution_count": 34,
   "metadata": {},
   "outputs": [],
   "source": [
    "# Pooling\n",
    "classifier.add(MaxPooling2D(pool_size=(2,2)))"
   ]
  },
  {
   "cell_type": "markdown",
   "metadata": {},
   "source": [
    "By pooling we reduce the complexity of our model without reducing its performance."
   ]
  },
  {
   "cell_type": "code",
   "execution_count": 35,
   "metadata": {},
   "outputs": [],
   "source": [
    "# Flattening\n",
    "classifier.add(Flatten())"
   ]
  },
  {
   "cell_type": "code",
   "execution_count": 36,
   "metadata": {},
   "outputs": [],
   "source": [
    "# Full connection\n",
    "classifier.add(Dense(units=128, activation='relu'))\n",
    "classifier.add(Dense(units=1, activation='sigmoid'))"
   ]
  },
  {
   "cell_type": "code",
   "execution_count": 37,
   "metadata": {},
   "outputs": [],
   "source": [
    "# Compliling the CNN\n",
    "classifier.compile(optimizer='adam', loss='binary_crossentropy', metrics=['accuracy'])"
   ]
  },
  {
   "cell_type": "markdown",
   "metadata": {},
   "source": [
    "We will use the 'image augmentation' method. \n",
    "<br> It allows us to create many batches of our images and then for each batch it will apply random transformations on a random selection of our images.</br>\n"
   ]
  },
  {
   "cell_type": "code",
   "execution_count": 38,
   "metadata": {},
   "outputs": [],
   "source": [
    "# Import the ImageDataGenerator \n",
    "from keras.preprocessing.image import ImageDataGenerator"
   ]
  },
  {
   "cell_type": "code",
   "execution_count": 39,
   "metadata": {},
   "outputs": [],
   "source": [
    "train_datagen = ImageDataGenerator(rescale=1./255,\n",
    "                                   shear_range=0.2,\n",
    "                                   zoom_range=0.2,\n",
    "                                   horizontal_flip=True)"
   ]
  },
  {
   "cell_type": "code",
   "execution_count": 40,
   "metadata": {},
   "outputs": [],
   "source": [
    "test_datagen = ImageDataGenerator(rescale=1./255)"
   ]
  },
  {
   "cell_type": "code",
   "execution_count": 42,
   "metadata": {},
   "outputs": [
    {
     "name": "stdout",
     "output_type": "stream",
     "text": [
      "Found 8000 images belonging to 2 classes.\n"
     ]
    }
   ],
   "source": [
    "training_set = train_datagen.flow_from_directory('dataset/training_set',\n",
    "                                                 target_size=(64, 64),\n",
    "                                                 batch_size=32,\n",
    "                                                 class_mode='binary')"
   ]
  },
  {
   "cell_type": "code",
   "execution_count": 43,
   "metadata": {},
   "outputs": [
    {
     "name": "stdout",
     "output_type": "stream",
     "text": [
      "Found 2000 images belonging to 2 classes.\n"
     ]
    }
   ],
   "source": [
    "test_set = test_datagen.flow_from_directory('dataset/test_set',\n",
    "                                            target_size=(64, 64),\n",
    "                                            batch_size=32,\n",
    "                                            class_mode='binary')"
   ]
  },
  {
   "cell_type": "code",
   "execution_count": null,
   "metadata": {},
   "outputs": [],
   "source": [
    "# Fitting our CNN\n",
    "classifier.fit_generator(training_set,\n",
    "                         steps_per_epoch=8000,\n",
    "                         epochs=25,\n",
    "                         validation_data=test_set,\n",
    "                         validation_steps=2000)"
   ]
  },
  {
   "cell_type": "markdown",
   "metadata": {},
   "source": [
    "After running the above code we obtained an accuracy of 84% on the train set and 75% on the test set.\n",
    "<br> We can reduce that difference between the training set result and the test set result by adding a second convolutional layer. </br>"
   ]
  },
  {
   "cell_type": "code",
   "execution_count": 53,
   "metadata": {},
   "outputs": [
    {
     "data": {
      "text/plain": [
       "{'cats': 0, 'dogs': 1}"
      ]
     },
     "execution_count": 53,
     "metadata": {},
     "output_type": "execute_result"
    }
   ],
   "source": [
    "# Making new predictions\n",
    "# But before going further let us see which index corresponds to a cat or a dog in our training_set file\n",
    "training_set.class_indices"
   ]
  },
  {
   "cell_type": "code",
   "execution_count": 59,
   "metadata": {},
   "outputs": [
    {
     "data": {
      "text/plain": [
       "'cat'"
      ]
     },
     "execution_count": 59,
     "metadata": {},
     "output_type": "execute_result"
    }
   ],
   "source": [
    "# Using the same method to find out a prediction in the second file of images\n",
    "import numpy as np\n",
    "from keras.preprocessing import image\n",
    "test_image = image.load_img('dataset/single_prediction/cat_or_dog_2.jpg', target_size=(64,64)) # Loading the file of images\n",
    "test_image = image.img_to_array(test_image)    \n",
    "test_image = np.expand_dims(test_image, axis=0) # 'expand' method to correspond to the batch otherwise there will be an error\n",
    "result = classifier.predict(test_image)\n",
    "training_set.class_indices\n",
    "\n",
    "if result[0][0] == 1 :\n",
    "    prediction = 'dog'\n",
    "else:\n",
    "    prediction = 'cat'\n",
    "prediction"
   ]
  },
  {
   "cell_type": "markdown",
   "metadata": {},
   "source": [
    "## 3. Recurrent Neural Network\n",
    "In this part we will:\n",
    "<ol>\n",
    "    <li> Start building a simple RNN, our first attempt. </li>\n",
    "    <li> Observe the results to identify possible issues and ways of improvement. </li>\n",
    "    <li> Learn how to to evaluate a RNN model, and more generally a Regression model. </li>\n",
    "    <li> Identify the issues and improvements solutions to make several more robust and relevant RNNs. </li>\n",
    "</ol>"
   ]
  },
  {
   "cell_type": "markdown",
   "metadata": {},
   "source": [
    "We are going to predict the stock price of Google.\n",
    "<br> As it is not possible to predict exactly the future stock price, but it is actually possible to predict some trends.</br>\n",
    "<br> So we are going to predict the upward and downward trends that exist in the Google stock price.</br>\n",
    "<br> We are going to train our model on the open Google stock price from the beginning of 2012 to the end of 2016, and try to predict trends in January 2017. </br>"
   ]
  },
  {
   "cell_type": "code",
   "execution_count": 5,
   "metadata": {},
   "outputs": [
    {
     "name": "stdout",
     "output_type": "stream",
     "text": [
      "       Date    Open    High     Low   Close      Volume\n",
      "0  1/3/2012  325.25  332.83  324.97  663.59   7,380,500\n",
      "1  1/4/2012  331.27  333.87  329.08  666.45   5,749,400\n",
      "2  1/5/2012  329.83  330.75  326.89  657.21   6,590,300\n",
      "3  1/6/2012  328.34  328.77  323.68  648.24   5,405,900\n",
      "4  1/9/2012  322.04  322.29  309.46  620.76  11,688,800\n",
      "(1258, 6)\n",
      "[[ 325.25]\n",
      " [ 331.27]\n",
      " [ 329.83]\n",
      " ..., \n",
      " [ 793.7 ]\n",
      " [ 783.33]\n",
      " [ 782.75]]\n",
      "(1258, 1)\n"
     ]
    }
   ],
   "source": [
    "# Importing the training set\n",
    "dataset_train = pd.read_csv('Google_Stock_Price_Train.csv')\n",
    "training_set = dataset_train.iloc[:, 1:2].values\n",
    "print(dataset_train.head())\n",
    "print(dataset_train.shape)\n",
    "print(training_set)\n",
    "print(training_set.shape)"
   ]
  },
  {
   "cell_type": "code",
   "execution_count": 6,
   "metadata": {},
   "outputs": [
    {
     "name": "stdout",
     "output_type": "stream",
     "text": [
      "[[ 0.08581368]\n",
      " [ 0.09701243]\n",
      " [ 0.09433366]\n",
      " ..., \n",
      " [ 0.95725128]\n",
      " [ 0.93796041]\n",
      " [ 0.93688146]]\n",
      "(1258, 1)\n"
     ]
    }
   ],
   "source": [
    "# Feature Scaling\n",
    "from sklearn.preprocessing import MinMaxScaler\n",
    "sc = MinMaxScaler(feature_range=(0,1))\n",
    "training_set_scaled = sc.fit_transform(training_set)\n",
    "print(training_set_scaled)\n",
    "print(training_set_scaled.shape)"
   ]
  },
  {
   "cell_type": "code",
   "execution_count": 7,
   "metadata": {},
   "outputs": [
    {
     "name": "stdout",
     "output_type": "stream",
     "text": [
      "[[ 0.08581368  0.09701243  0.09433366 ...,  0.07846566  0.08034452\n",
      "   0.08497656]\n",
      " [ 0.09701243  0.09433366  0.09156187 ...,  0.08034452  0.08497656\n",
      "   0.08627874]\n",
      " [ 0.09433366  0.09156187  0.07984225 ...,  0.08497656  0.08627874\n",
      "   0.08471612]\n",
      " ..., \n",
      " [ 0.92106928  0.92438053  0.93048218 ...,  0.95475854  0.95204256\n",
      "   0.95163331]\n",
      " [ 0.92438053  0.93048218  0.9299055  ...,  0.95204256  0.95163331\n",
      "   0.95725128]\n",
      " [ 0.93048218  0.9299055   0.93113327 ...,  0.95163331  0.95725128\n",
      "   0.93796041]]\n",
      "[ 0.08627874  0.08471612  0.07454052 ...,  0.95725128  0.93796041\n",
      "  0.93688146]\n",
      "(1198, 60)\n",
      "(1198,)\n"
     ]
    }
   ],
   "source": [
    "# Creating a data structure with 60 timesteps and 1 output\n",
    "X_train = []\n",
    "y_train = []\n",
    "for i in range(60, 1258):\n",
    "    X_train.append(training_set_scaled[i-60:i, 0])\n",
    "    y_train.append(training_set_scaled[i, 0])\n",
    "\n",
    "X_train, y_train = np.array(X_train), np.array(y_train)\n",
    "print(X_train)\n",
    "print(y_train)\n",
    "print(X_train.shape)\n",
    "print(y_train.shape)"
   ]
  },
  {
   "cell_type": "code",
   "execution_count": 8,
   "metadata": {},
   "outputs": [
    {
     "name": "stdout",
     "output_type": "stream",
     "text": [
      "[[[ 0.08581368]\n",
      "  [ 0.09701243]\n",
      "  [ 0.09433366]\n",
      "  ..., \n",
      "  [ 0.07846566]\n",
      "  [ 0.08034452]\n",
      "  [ 0.08497656]]\n",
      "\n",
      " [[ 0.09701243]\n",
      "  [ 0.09433366]\n",
      "  [ 0.09156187]\n",
      "  ..., \n",
      "  [ 0.08034452]\n",
      "  [ 0.08497656]\n",
      "  [ 0.08627874]]\n",
      "\n",
      " [[ 0.09433366]\n",
      "  [ 0.09156187]\n",
      "  [ 0.07984225]\n",
      "  ..., \n",
      "  [ 0.08497656]\n",
      "  [ 0.08627874]\n",
      "  [ 0.08471612]]\n",
      "\n",
      " ..., \n",
      " [[ 0.92106928]\n",
      "  [ 0.92438053]\n",
      "  [ 0.93048218]\n",
      "  ..., \n",
      "  [ 0.95475854]\n",
      "  [ 0.95204256]\n",
      "  [ 0.95163331]]\n",
      "\n",
      " [[ 0.92438053]\n",
      "  [ 0.93048218]\n",
      "  [ 0.9299055 ]\n",
      "  ..., \n",
      "  [ 0.95204256]\n",
      "  [ 0.95163331]\n",
      "  [ 0.95725128]]\n",
      "\n",
      " [[ 0.93048218]\n",
      "  [ 0.9299055 ]\n",
      "  [ 0.93113327]\n",
      "  ..., \n",
      "  [ 0.95163331]\n",
      "  [ 0.95725128]\n",
      "  [ 0.93796041]]]\n",
      "(1198, 60, 1)\n"
     ]
    }
   ],
   "source": [
    "# Reshaping the data\n",
    "X_train = np.reshape(X_train, (X_train.shape[0], X_train.shape[1], 1)) # getting 3 dimensions\n",
    "print(X_train)\n",
    "print(X_train.shape)"
   ]
  },
  {
   "cell_type": "code",
   "execution_count": 9,
   "metadata": {},
   "outputs": [],
   "source": [
    "# Building the RNN\n",
    "from keras.models import Sequential\n",
    "from keras.layers import Dense\n",
    "from keras.layers import LSTM\n",
    "from keras.layers import Dropout\n",
    "\n",
    "# Initialising the RNN\n",
    "regressor = Sequential()\n",
    "\n",
    "# Adding the first LSTM layer and some Dropout regularisation to avoid overfitting\n",
    "regressor.add(LSTM(units=50, return_sequences=True, input_shape=(X_train.shape[1], 1))) # Making a stacked LSTM layer\n",
    "regressor.add(Dropout(0.2))\n",
    "\n",
    "# Adding the second LSTM layer and some Droptout regularisation\n",
    "regressor.add(LSTM(units=50, return_sequences=True)) \n",
    "regressor.add(Dropout(0.2))\n",
    "\n",
    "# Adding the third LSTM layer and some Droptout regularisation\n",
    "regressor.add(LSTM(units=50, return_sequences=True)) \n",
    "regressor.add(Dropout(0.2))\n",
    "\n",
    "# Adding the fourth LSTM layer and some Droptout regularisation\n",
    "regressor.add(LSTM(units=50)) # The return_sequences parameter is set to be False as we are not adding any more layer \n",
    "regressor.add(Dropout(0.2))"
   ]
  },
  {
   "cell_type": "code",
   "execution_count": 10,
   "metadata": {},
   "outputs": [],
   "source": [
    "# Adding the output layer\n",
    "regressor.add(Dense(units=1))"
   ]
  },
  {
   "cell_type": "code",
   "execution_count": 11,
   "metadata": {},
   "outputs": [],
   "source": [
    "# Compiling the RNN \n",
    "regressor.compile(optimizer='adam', loss='mean_squared_error')"
   ]
  },
  {
   "cell_type": "code",
   "execution_count": 12,
   "metadata": {},
   "outputs": [
    {
     "name": "stdout",
     "output_type": "stream",
     "text": [
      "Epoch 1/100\n",
      "1198/1198 [==============================] - 13s 11ms/step - loss: 0.0387\n",
      "Epoch 2/100\n",
      "1198/1198 [==============================] - 8s 7ms/step - loss: 0.0067\n",
      "Epoch 3/100\n",
      "1198/1198 [==============================] - 8s 7ms/step - loss: 0.0053\n",
      "Epoch 4/100\n",
      "1198/1198 [==============================] - 8s 7ms/step - loss: 0.0051\n",
      "Epoch 5/100\n",
      "1198/1198 [==============================] - 8s 7ms/step - loss: 0.0052\n",
      "Epoch 6/100\n",
      "1198/1198 [==============================] - 9s 7ms/step - loss: 0.0048\n",
      "Epoch 7/100\n",
      "1198/1198 [==============================] - 8s 7ms/step - loss: 0.0041\n",
      "Epoch 8/100\n",
      "1198/1198 [==============================] - 8s 7ms/step - loss: 0.0043\n",
      "Epoch 9/100\n",
      "1198/1198 [==============================] - 9s 7ms/step - loss: 0.0044\n",
      "Epoch 10/100\n",
      "1198/1198 [==============================] - 9s 7ms/step - loss: 0.0048\n",
      "Epoch 11/100\n",
      "1198/1198 [==============================] - 8s 7ms/step - loss: 0.0046\n",
      "Epoch 12/100\n",
      "1198/1198 [==============================] - 8s 7ms/step - loss: 0.0037\n",
      "Epoch 13/100\n",
      "1198/1198 [==============================] - 9s 7ms/step - loss: 0.0042\n",
      "Epoch 14/100\n",
      "1198/1198 [==============================] - 9s 7ms/step - loss: 0.0035\n",
      "Epoch 15/100\n",
      "1198/1198 [==============================] - 9s 7ms/step - loss: 0.0036\n",
      "Epoch 16/100\n",
      "1198/1198 [==============================] - 9s 7ms/step - loss: 0.0038\n",
      "Epoch 17/100\n",
      "1198/1198 [==============================] - 9s 7ms/step - loss: 0.0042\n",
      "Epoch 18/100\n",
      "1198/1198 [==============================] - 9s 7ms/step - loss: 0.0036\n",
      "Epoch 19/100\n",
      "1198/1198 [==============================] - 9s 7ms/step - loss: 0.0036\n",
      "Epoch 20/100\n",
      "1198/1198 [==============================] - 9s 7ms/step - loss: 0.0039\n",
      "Epoch 21/100\n",
      "1198/1198 [==============================] - 9s 7ms/step - loss: 0.0041\n",
      "Epoch 22/100\n",
      "1198/1198 [==============================] - 9s 7ms/step - loss: 0.0037\n",
      "Epoch 23/100\n",
      "1198/1198 [==============================] - 9s 7ms/step - loss: 0.0032\n",
      "Epoch 24/100\n",
      "1198/1198 [==============================] - 10s 8ms/step - loss: 0.0031\n",
      "Epoch 25/100\n",
      "1198/1198 [==============================] - 9s 8ms/step - loss: 0.0030\n",
      "Epoch 26/100\n",
      "1198/1198 [==============================] - 9s 7ms/step - loss: 0.0031\n",
      "Epoch 27/100\n",
      "1198/1198 [==============================] - 9s 8ms/step - loss: 0.0031\n",
      "Epoch 28/100\n",
      "1198/1198 [==============================] - 9s 7ms/step - loss: 0.0028\n",
      "Epoch 29/100\n",
      "1198/1198 [==============================] - 8s 7ms/step - loss: 0.0029\n",
      "Epoch 30/100\n",
      "1198/1198 [==============================] - 8s 7ms/step - loss: 0.0030\n",
      "Epoch 31/100\n",
      "1198/1198 [==============================] - 9s 7ms/step - loss: 0.0032\n",
      "Epoch 32/100\n",
      "1198/1198 [==============================] - 9s 7ms/step - loss: 0.0029\n",
      "Epoch 33/100\n",
      "1198/1198 [==============================] - 9s 8ms/step - loss: 0.0026\n",
      "Epoch 34/100\n",
      "1198/1198 [==============================] - 10s 8ms/step - loss: 0.0027\n",
      "Epoch 35/100\n",
      "1198/1198 [==============================] - 9s 8ms/step - loss: 0.0029\n",
      "Epoch 36/100\n",
      "1198/1198 [==============================] - 9s 8ms/step - loss: 0.0028\n",
      "Epoch 37/100\n",
      "1198/1198 [==============================] - 8s 7ms/step - loss: 0.0026\n",
      "Epoch 38/100\n",
      "1198/1198 [==============================] - 9s 7ms/step - loss: 0.0027\n",
      "Epoch 39/100\n",
      "1198/1198 [==============================] - 8s 7ms/step - loss: 0.0026\n",
      "Epoch 40/100\n",
      "1198/1198 [==============================] - 8s 7ms/step - loss: 0.0029\n",
      "Epoch 41/100\n",
      "1198/1198 [==============================] - 8s 7ms/step - loss: 0.0027\n",
      "Epoch 42/100\n",
      "1198/1198 [==============================] - 9s 7ms/step - loss: 0.0027\n",
      "Epoch 43/100\n",
      "1198/1198 [==============================] - 10s 8ms/step - loss: 0.0029\n",
      "Epoch 44/100\n",
      "1198/1198 [==============================] - 10s 8ms/step - loss: 0.0028\n",
      "Epoch 45/100\n",
      "1198/1198 [==============================] - 10s 9ms/step - loss: 0.0028\n",
      "Epoch 46/100\n",
      "1198/1198 [==============================] - 9s 7ms/step - loss: 0.0027\n",
      "Epoch 47/100\n",
      "1198/1198 [==============================] - 9s 8ms/step - loss: 0.0025\n",
      "Epoch 48/100\n",
      "1198/1198 [==============================] - 11s 9ms/step - loss: 0.0025\n",
      "Epoch 49/100\n",
      "1198/1198 [==============================] - 11s 9ms/step - loss: 0.0025\n",
      "Epoch 50/100\n",
      "1198/1198 [==============================] - 10s 8ms/step - loss: 0.0024\n",
      "Epoch 51/100\n",
      "1198/1198 [==============================] - 10s 8ms/step - loss: 0.0026\n",
      "Epoch 52/100\n",
      "1198/1198 [==============================] - 10s 8ms/step - loss: 0.0023\n",
      "Epoch 53/100\n",
      "1198/1198 [==============================] - 9s 8ms/step - loss: 0.0025\n",
      "Epoch 54/100\n",
      "1198/1198 [==============================] - 9s 8ms/step - loss: 0.0023\n",
      "Epoch 55/100\n",
      "1198/1198 [==============================] - 9s 8ms/step - loss: 0.0021\n",
      "Epoch 56/100\n",
      "1198/1198 [==============================] - 9s 8ms/step - loss: 0.0022\n",
      "Epoch 57/100\n",
      "1198/1198 [==============================] - 9s 8ms/step - loss: 0.0022\n",
      "Epoch 58/100\n",
      "1198/1198 [==============================] - 9s 8ms/step - loss: 0.0026\n",
      "Epoch 59/100\n",
      "1198/1198 [==============================] - 9s 8ms/step - loss: 0.0021\n",
      "Epoch 60/100\n",
      "1198/1198 [==============================] - 10s 8ms/step - loss: 0.0022\n",
      "Epoch 61/100\n",
      "1198/1198 [==============================] - 9s 8ms/step - loss: 0.0020\n",
      "Epoch 62/100\n",
      "1198/1198 [==============================] - 9s 8ms/step - loss: 0.0021\n",
      "Epoch 63/100\n",
      "1198/1198 [==============================] - 9s 8ms/step - loss: 0.0021\n",
      "Epoch 64/100\n",
      "1198/1198 [==============================] - 9s 8ms/step - loss: 0.0020\n",
      "Epoch 65/100\n",
      "1198/1198 [==============================] - 9s 8ms/step - loss: 0.0022\n",
      "Epoch 66/100\n",
      "1198/1198 [==============================] - 9s 8ms/step - loss: 0.0019\n",
      "Epoch 67/100\n",
      "1198/1198 [==============================] - 10s 9ms/step - loss: 0.0020\n",
      "Epoch 68/100\n",
      "1198/1198 [==============================] - 9s 8ms/step - loss: 0.0020\n",
      "Epoch 69/100\n",
      "1198/1198 [==============================] - 10s 8ms/step - loss: 0.0018\n",
      "Epoch 70/100\n",
      "1198/1198 [==============================] - 11s 9ms/step - loss: 0.0021\n",
      "Epoch 71/100\n",
      "1198/1198 [==============================] - 9s 8ms/step - loss: 0.0018\n",
      "Epoch 72/100\n",
      "1198/1198 [==============================] - 9s 8ms/step - loss: 0.0018\n",
      "Epoch 73/100\n",
      "1198/1198 [==============================] - 9s 8ms/step - loss: 0.0020\n",
      "Epoch 74/100\n",
      "1198/1198 [==============================] - 9s 7ms/step - loss: 0.0020\n",
      "Epoch 75/100\n",
      "1198/1198 [==============================] - 10s 8ms/step - loss: 0.0018\n",
      "Epoch 76/100\n",
      "1198/1198 [==============================] - 10s 8ms/step - loss: 0.0017\n",
      "Epoch 77/100\n",
      "1198/1198 [==============================] - 10s 8ms/step - loss: 0.0020\n",
      "Epoch 78/100\n",
      "1198/1198 [==============================] - 8s 7ms/step - loss: 0.0019\n",
      "Epoch 79/100\n",
      "1198/1198 [==============================] - 8s 7ms/step - loss: 0.0020\n",
      "Epoch 80/100\n",
      "1198/1198 [==============================] - 9s 7ms/step - loss: 0.0016\n",
      "Epoch 81/100\n",
      "1198/1198 [==============================] - 8s 7ms/step - loss: 0.0018\n",
      "Epoch 82/100\n",
      "1198/1198 [==============================] - 8s 7ms/step - loss: 0.0016\n",
      "Epoch 83/100\n",
      "1198/1198 [==============================] - 8s 7ms/step - loss: 0.0015\n",
      "Epoch 84/100\n",
      "1198/1198 [==============================] - 9s 7ms/step - loss: 0.0016\n",
      "Epoch 85/100\n",
      "1198/1198 [==============================] - 10s 9ms/step - loss: 0.0016\n",
      "Epoch 86/100\n",
      "1198/1198 [==============================] - 9s 8ms/step - loss: 0.0020\n",
      "Epoch 87/100\n",
      "1198/1198 [==============================] - 10s 8ms/step - loss: 0.0018\n",
      "Epoch 88/100\n",
      "1198/1198 [==============================] - 11s 9ms/step - loss: 0.0015\n",
      "Epoch 89/100\n",
      "1198/1198 [==============================] - 9s 8ms/step - loss: 0.0017\n",
      "Epoch 90/100\n",
      "1198/1198 [==============================] - 9s 7ms/step - loss: 0.0016\n",
      "Epoch 91/100\n",
      "1198/1198 [==============================] - 9s 7ms/step - loss: 0.0015\n",
      "Epoch 92/100\n",
      "1198/1198 [==============================] - 9s 8ms/step - loss: 0.0015\n",
      "Epoch 93/100\n",
      "1198/1198 [==============================] - 9s 7ms/step - loss: 0.0014\n",
      "Epoch 94/100\n",
      "1198/1198 [==============================] - 9s 7ms/step - loss: 0.0015\n",
      "Epoch 95/100\n",
      "1198/1198 [==============================] - 9s 7ms/step - loss: 0.0015\n",
      "Epoch 96/100\n",
      "1198/1198 [==============================] - 9s 7ms/step - loss: 0.0016\n",
      "Epoch 97/100\n"
     ]
    },
    {
     "name": "stdout",
     "output_type": "stream",
     "text": [
      "1198/1198 [==============================] - 9s 7ms/step - loss: 0.0014\n",
      "Epoch 98/100\n",
      "1198/1198 [==============================] - 9s 7ms/step - loss: 0.0014\n",
      "Epoch 99/100\n",
      "1198/1198 [==============================] - 9s 7ms/step - loss: 0.0016\n",
      "Epoch 100/100\n",
      "1198/1198 [==============================] - 9s 7ms/step - loss: 0.0014\n"
     ]
    },
    {
     "data": {
      "text/plain": [
       "<keras.callbacks.History at 0xc788780>"
      ]
     },
     "execution_count": 12,
     "metadata": {},
     "output_type": "execute_result"
    }
   ],
   "source": [
    "# Fitting the RNN to the traning set\n",
    "regressor.fit(X_train, y_train, epochs=100, batch_size=32)"
   ]
  },
  {
   "cell_type": "markdown",
   "metadata": {},
   "source": [
    "We can see that the loss is converging around 0.0015."
   ]
  },
  {
   "cell_type": "code",
   "execution_count": 13,
   "metadata": {},
   "outputs": [
    {
     "name": "stdout",
     "output_type": "stream",
     "text": [
      "       Date    Open    High     Low   Close     Volume\n",
      "0  1/3/2017  778.81  789.63  775.80  786.14  1,657,300\n",
      "1  1/4/2017  788.36  791.34  783.16  786.90  1,073,000\n",
      "2  1/5/2017  786.08  794.48  785.02  794.02  1,335,200\n",
      "3  1/6/2017  795.26  807.90  792.20  806.15  1,640,200\n",
      "4  1/9/2017  806.40  809.97  802.83  806.65  1,272,400\n",
      "(20, 6)\n",
      "[[ 778.81]\n",
      " [ 788.36]\n",
      " [ 786.08]\n",
      " [ 795.26]\n",
      " [ 806.4 ]\n",
      " [ 807.86]\n",
      " [ 805.  ]\n",
      " [ 807.14]\n",
      " [ 807.48]\n",
      " [ 807.08]\n",
      " [ 805.81]\n",
      " [ 805.12]\n",
      " [ 806.91]\n",
      " [ 807.25]\n",
      " [ 822.3 ]\n",
      " [ 829.62]\n",
      " [ 837.81]\n",
      " [ 834.71]\n",
      " [ 814.66]\n",
      " [ 796.86]]\n",
      "(20, 1)\n"
     ]
    }
   ],
   "source": [
    "# Getting the real stock price of 2017\n",
    "dataset_test = pd.read_csv('Google_Stock_Price_Test.csv')\n",
    "real_stock_price = dataset_test.iloc[:, 1:2].values\n",
    "print(dataset_test.head())\n",
    "print(dataset_test.shape)\n",
    "print(real_stock_price)\n",
    "print(real_stock_price.shape)"
   ]
  },
  {
   "cell_type": "code",
   "execution_count": 19,
   "metadata": {},
   "outputs": [
    {
     "name": "stdout",
     "output_type": "stream",
     "text": [
      "0       325.25\n",
      "1       331.27\n",
      "2       329.83\n",
      "3       328.34\n",
      "4       322.04\n",
      "5       313.70\n",
      "6       310.59\n",
      "7       314.43\n",
      "8       311.96\n",
      "9       314.81\n",
      "10      312.14\n",
      "11      319.30\n",
      "12      294.16\n",
      "13      291.91\n",
      "14      292.07\n",
      "15      287.68\n",
      "16      284.92\n",
      "17      284.32\n",
      "18      287.95\n",
      "19      290.41\n",
      "20      291.38\n",
      "21      291.34\n",
      "22      294.23\n",
      "23      296.39\n",
      "24      302.44\n",
      "25      303.18\n",
      "26      304.87\n",
      "27      302.81\n",
      "28      304.11\n",
      "29      304.63\n",
      "         ...  \n",
      "1248    800.40\n",
      "1249    790.22\n",
      "1250    796.76\n",
      "1251    795.84\n",
      "1252    792.36\n",
      "1253    790.90\n",
      "1254    790.68\n",
      "1255    793.70\n",
      "1256    783.33\n",
      "1257    782.75\n",
      "0       778.81\n",
      "1       788.36\n",
      "2       786.08\n",
      "3       795.26\n",
      "4       806.40\n",
      "5       807.86\n",
      "6       805.00\n",
      "7       807.14\n",
      "8       807.48\n",
      "9       807.08\n",
      "10      805.81\n",
      "11      805.12\n",
      "12      806.91\n",
      "13      807.25\n",
      "14      822.30\n",
      "15      829.62\n",
      "16      837.81\n",
      "17      834.71\n",
      "18      814.66\n",
      "19      796.86\n",
      "Name: Open, Length: 1278, dtype: float64\n",
      "(1278,)\n",
      "[[ 0.9299055 ]\n",
      " [ 0.93113327]\n",
      " [ 0.92750577]\n",
      " [ 0.94415507]\n",
      " [ 0.93876032]\n",
      " [ 0.93403527]\n",
      " [ 0.93483518]\n",
      " [ 0.9313937 ]\n",
      " [ 0.94636878]\n",
      " [ 0.96569685]\n",
      " [ 0.97510976]\n",
      " [ 0.95966962]\n",
      " [ 0.97808617]\n",
      " [ 1.        ]\n",
      " [ 0.98076494]\n",
      " [ 0.97083116]\n",
      " [ 0.98450406]\n",
      " [ 0.96054394]\n",
      " [ 0.9371419 ]\n",
      " [ 0.92841729]\n",
      " [ 0.90804747]\n",
      " [ 0.8771858 ]\n",
      " [ 0.92153434]\n",
      " [ 0.93809063]\n",
      " [ 0.93165414]\n",
      " [ 0.95254483]\n",
      " [ 0.88812412]\n",
      " [ 0.88637547]\n",
      " [ 0.87032145]\n",
      " [ 0.88563137]\n",
      " [ 0.90743359]\n",
      " [ 0.91571173]\n",
      " [ 0.89941588]\n",
      " [ 0.91805566]\n",
      " [ 0.9089404 ]\n",
      " [ 0.9024853 ]\n",
      " [ 0.89456061]\n",
      " [ 0.91600938]\n",
      " [ 0.9132934 ]\n",
      " [ 0.88979835]\n",
      " [ 0.86589404]\n",
      " [ 0.89030062]\n",
      " [ 0.90335962]\n",
      " [ 0.89642086]\n",
      " [ 0.91777662]\n",
      " [ 0.93176576]\n",
      " [ 0.94114145]\n",
      " [ 0.95762334]\n",
      " [ 0.96413424]\n",
      " [ 0.96402262]\n",
      " [ 0.96971501]\n",
      " [ 0.95077759]\n",
      " [ 0.96294367]\n",
      " [ 0.96123223]\n",
      " [ 0.95475854]\n",
      " [ 0.95204256]\n",
      " [ 0.95163331]\n",
      " [ 0.95725128]\n",
      " [ 0.93796041]\n",
      " [ 0.93688146]\n",
      " [ 0.92955205]\n",
      " [ 0.94731751]\n",
      " [ 0.94307612]\n",
      " [ 0.96015329]\n",
      " [ 0.98087655]\n",
      " [ 0.98359253]\n",
      " [ 0.97827219]\n",
      " [ 0.98225314]\n",
      " [ 0.98288563]\n",
      " [ 0.98214153]\n",
      " [ 0.979779  ]\n",
      " [ 0.97849542]\n",
      " [ 0.98182528]\n",
      " [ 0.98245777]\n",
      " [ 1.01045465]\n",
      " [ 1.02407173]\n",
      " [ 1.03930724]\n",
      " [ 1.03354044]\n",
      " [ 0.99624228]\n",
      " [ 0.9631297 ]]\n",
      "(80, 1)\n"
     ]
    }
   ],
   "source": [
    "# Getting the predicted stock price of 2017\n",
    "dataset_total = pd.concat((dataset_train['Open'], dataset_test['Open']), axis=0) # we concatenate the 2 dataframes by adding their lines\n",
    "inputs = dataset_total[len(dataset_total) - len(dataset_test) - 60:].values\n",
    "inputs = inputs.reshape(-1,1)\n",
    "inputs = sc.transform(inputs)\n",
    "print(dataset_total)\n",
    "print(dataset_total.shape)\n",
    "print(inputs)\n",
    "print(inputs.shape)"
   ]
  },
  {
   "cell_type": "code",
   "execution_count": 24,
   "metadata": {},
   "outputs": [
    {
     "name": "stdout",
     "output_type": "stream",
     "text": [
      "[[[ 0.9299055 ]\n",
      "  [ 0.93113327]\n",
      "  [ 0.92750577]\n",
      "  ..., \n",
      "  [ 0.95725128]\n",
      "  [ 0.93796041]\n",
      "  [ 0.93688146]]\n",
      "\n",
      " [[ 0.93113327]\n",
      "  [ 0.92750577]\n",
      "  [ 0.94415507]\n",
      "  ..., \n",
      "  [ 0.93796041]\n",
      "  [ 0.93688146]\n",
      "  [ 0.92955205]]\n",
      "\n",
      " [[ 0.92750577]\n",
      "  [ 0.94415507]\n",
      "  [ 0.93876032]\n",
      "  ..., \n",
      "  [ 0.93688146]\n",
      "  [ 0.92955205]\n",
      "  [ 0.94731751]]\n",
      "\n",
      " ..., \n",
      " [[ 0.96054394]\n",
      "  [ 0.9371419 ]\n",
      "  [ 0.92841729]\n",
      "  ..., \n",
      "  [ 1.01045465]\n",
      "  [ 1.02407173]\n",
      "  [ 1.03930724]]\n",
      "\n",
      " [[ 0.9371419 ]\n",
      "  [ 0.92841729]\n",
      "  [ 0.90804747]\n",
      "  ..., \n",
      "  [ 1.02407173]\n",
      "  [ 1.03930724]\n",
      "  [ 1.03354044]]\n",
      "\n",
      " [[ 0.92841729]\n",
      "  [ 0.90804747]\n",
      "  [ 0.8771858 ]\n",
      "  ..., \n",
      "  [ 1.03930724]\n",
      "  [ 1.03354044]\n",
      "  [ 0.99624228]]]\n",
      "(20, 60, 1)\n",
      "[[ 793.93713379]\n",
      " [ 791.24395752]\n",
      " [ 790.61590576]\n",
      " [ 791.48120117]\n",
      " [ 794.46252441]\n",
      " [ 800.12524414]\n",
      " [ 806.24719238]\n",
      " [ 810.03894043]\n",
      " [ 811.51586914]\n",
      " [ 811.56115723]\n",
      " [ 811.01635742]\n",
      " [ 810.29772949]\n",
      " [ 809.70227051]\n",
      " [ 809.81488037]\n",
      " [ 810.56610107]\n",
      " [ 814.42138672]\n",
      " [ 821.04486084]\n",
      " [ 829.03692627]\n",
      " [ 834.84307861]\n",
      " [ 833.47949219]]\n",
      "(20, 1)\n"
     ]
    }
   ],
   "source": [
    "X_test = []\n",
    "for i in range(60, 80):\n",
    "    X_test.append(inputs[i-60:i, 0])\n",
    "X_test = np.array(X_test)\n",
    "X_test = np.reshape(X_test, (X_test.shape[0], X_test.shape[1], 1))\n",
    "predicted_stock_price = regressor.predict(X_test)\n",
    "predicted_stock_price = sc.inverse_transform(predicted_stock_price)\n",
    "print(X_test)\n",
    "print(X_test.shape)\n",
    "print(predicted_stock_price)\n",
    "print(predicted_stock_price.shape)"
   ]
  },
  {
   "cell_type": "code",
   "execution_count": 26,
   "metadata": {},
   "outputs": [
    {
     "data": {
      "image/png": "[encoded data removed]",
      "text/plain": [
       "<matplotlib.figure.Figure at 0x139b5ef0>"
      ]
     },
     "metadata": {},
     "output_type": "display_data"
    }
   ],
   "source": [
    "# Visualising the results\n",
    "plt.plot(real_stock_price, color='red', label='Real Google Stock Price')\n",
    "plt.plot(predicted_stock_price, color='blue', label='Predicted Google Stock Price')\n",
    "plt.title('Google Stock Price Prediction')\n",
    "plt.xlabel('Time')\n",
    "plt.ylabel('Google Stock Price')\n",
    "plt.legend()\n",
    "plt.show()"
   ]
  },
  {
   "cell_type": "markdown",
   "metadata": {},
   "source": [
    "We can see our predictions could follow some trends, such as some ups and downs.\n",
    "<br>Which means that our model is follwing quite well the directions of the stock price.</br>"
   ]
  }
 ],
 "metadata": {
  "kernelspec": {
   "display_name": "Python 3",
   "language": "python",
   "name": "python3"
  },
  "language_info": {
   "codemirror_mode": {
    "name": "ipython",
    "version": 3
   },
   "file_extension": ".py",
   "mimetype": "text/x-python",
   "name": "python",
   "nbconvert_exporter": "python",
   "pygments_lexer": "ipython3",
   "version": "3.6.4"
  }
 },
 "nbformat": 4,
 "nbformat_minor": 2
}
